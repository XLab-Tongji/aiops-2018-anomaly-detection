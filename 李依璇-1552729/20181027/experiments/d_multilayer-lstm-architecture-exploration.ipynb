{
 "cells": [
  {
   "cell_type": "markdown",
   "metadata": {},
   "source": [
    "# 以识别手写数字为例，构建两层LSTM网络，实验主为 explorer 其内部黑盒结构，使用tensorflow API\n",
    "  #### 将原来 784 维的像素点图，按行序输入，序列长fix 为 28 \n",
    "  #### 并行的批次超参在训练和测试时consistant 5\n",
    "  #### LSTM内隐藏前馈层神经元out 各层都 fix 256\n",
    "  #### 多分类激活用softmax\n",
    "  #### 损失用交叉熵，其产生背景及原理此处不细数"
   ]
  },
  {
   "cell_type": "code",
   "execution_count": 1,
   "metadata": {},
   "outputs": [
    {
     "name": "stdout",
     "output_type": "stream",
     "text": [
      "WARNING:tensorflow:From <ipython-input-1-f92f28c3059b>:17: read_data_sets (from tensorflow.contrib.learn.python.learn.datasets.mnist) is deprecated and will be removed in a future version.\n",
      "Instructions for updating:\n",
      "Please use alternatives such as official/mnist/dataset.py from tensorflow/models.\n",
      "WARNING:tensorflow:From C:\\Users\\lenovo\\AppData\\Roaming\\Python\\Python36\\site-packages\\tensorflow\\contrib\\learn\\python\\learn\\datasets\\mnist.py:260: maybe_download (from tensorflow.contrib.learn.python.learn.datasets.base) is deprecated and will be removed in a future version.\n",
      "Instructions for updating:\n",
      "Please write your own downloading logic.\n",
      "WARNING:tensorflow:From C:\\Users\\lenovo\\AppData\\Roaming\\Python\\Python36\\site-packages\\tensorflow\\contrib\\learn\\python\\learn\\datasets\\mnist.py:262: extract_images (from tensorflow.contrib.learn.python.learn.datasets.mnist) is deprecated and will be removed in a future version.\n",
      "Instructions for updating:\n",
      "Please use tf.data to implement this functionality.\n",
      "Extracting E:\\GitHub\\example-notebook\\MNIST_data\\train-images-idx3-ubyte.gz\n",
      "WARNING:tensorflow:From C:\\Users\\lenovo\\AppData\\Roaming\\Python\\Python36\\site-packages\\tensorflow\\contrib\\learn\\python\\learn\\datasets\\mnist.py:267: extract_labels (from tensorflow.contrib.learn.python.learn.datasets.mnist) is deprecated and will be removed in a future version.\n",
      "Instructions for updating:\n",
      "Please use tf.data to implement this functionality.\n",
      "Extracting E:\\GitHub\\example-notebook\\MNIST_data\\train-labels-idx1-ubyte.gz\n",
      "WARNING:tensorflow:From C:\\Users\\lenovo\\AppData\\Roaming\\Python\\Python36\\site-packages\\tensorflow\\contrib\\learn\\python\\learn\\datasets\\mnist.py:110: dense_to_one_hot (from tensorflow.contrib.learn.python.learn.datasets.mnist) is deprecated and will be removed in a future version.\n",
      "Instructions for updating:\n",
      "Please use tf.one_hot on tensors.\n",
      "Extracting E:\\GitHub\\example-notebook\\MNIST_data\\t10k-images-idx3-ubyte.gz\n",
      "Extracting E:\\GitHub\\example-notebook\\MNIST_data\\t10k-labels-idx1-ubyte.gz\n",
      "WARNING:tensorflow:From C:\\Users\\lenovo\\AppData\\Roaming\\Python\\Python36\\site-packages\\tensorflow\\contrib\\learn\\python\\learn\\datasets\\mnist.py:290: DataSet.__init__ (from tensorflow.contrib.learn.python.learn.datasets.mnist) is deprecated and will be removed in a future version.\n",
      "Instructions for updating:\n",
      "Please use alternatives such as official/mnist/dataset.py from tensorflow/models.\n",
      "(55000, 784)\n",
      "WARNING:tensorflow:From <ipython-input-1-f92f28c3059b>:55: BasicLSTMCell.__init__ (from tensorflow.python.ops.rnn_cell_impl) is deprecated and will be removed in a future version.\n",
      "Instructions for updating:\n",
      "This class is deprecated, please use tf.nn.rnn_cell.LSTMCell, which supports all the feature this cell currently has. Please replace the existing code with tf.nn.rnn_cell.LSTMCell(name='basic_lstm_cell').\n",
      "step 50,train_cost=0.110769,acc=0.640000,test_cost=0.089475,test_acc=0.704000; pass 16.19688391685486 s\n",
      "step 100,train_cost=0.048572,acc=0.810000,test_cost=0.052365,test_acc=0.828000; pass 13.141026735305786 s\n"
     ]
    }
   ],
   "source": [
    "import tensorflow as tf\n",
    "import numpy as np\n",
    "from tensorflow.contrib import rnn\n",
    "from tensorflow.examples.tutorials.mnist import input_data\n",
    "\n",
    "\n",
    "import warnings\n",
    "warnings.filterwarnings('ignore')  \n",
    "\n",
    "\n",
    "config = tf.ConfigProto()\n",
    "config.gpu_options.allow_growth=True\n",
    "sess = tf.Session(config=config)\n",
    "\n",
    "\n",
    "mnist = input_data.read_data_sets(r'..\\MNIST_data',one_hot=True)\n",
    "print(mnist.train.images.shape)\n",
    "\n",
    "\n",
    "#####################\n",
    "# (55000, 784)\n",
    "# [Finished in 11.4s]\n",
    "#####################\n",
    "\n",
    "\n",
    "\n",
    "#设置模型的超参数: 输入输出，层数，每层的隐藏节点数，最后的分类数\n",
    "\n",
    "lr= 1e-3\n",
    "input_size=28\n",
    "timestep_size=28\n",
    "hidden_size=256\n",
    "layer_num=2\n",
    "class_num=10\n",
    "cell_type=\"lstm\"\n",
    "\n",
    "X_input = tf.placeholder(tf.float32,[None,784])\n",
    "y_input = tf.placeholder(tf.float32,[None,class_num])\n",
    "\n",
    "#训练和测试的时候，我们想用不同的 batch_size,所以采用占位符的方式\n",
    "batch_size=tf.placeholder(tf.int32,[]) \n",
    "keep_prob=tf.placeholder(tf.float32,[])\n",
    "\n",
    "\n",
    "X = tf.reshape(X_input,[-1,28,28])\n",
    "\n",
    "\n",
    "def lstm_cell(cell_type,num_nodes,keep_prob):\n",
    "\tcell=tf.contrib.rnn.BasicLSTMCell(num_nodes)\n",
    "\tcell=tf.contrib.rnn.DropoutWrapper(cell,output_keep_prob=keep_prob)\n",
    "\treturn cell\n",
    "\n",
    "mlstm_cell = tf.contrib.rnn.MultiRNNCell([lstm_cell(cell_type,hidden_size,keep_prob) for _ in range(layer_num)],state_is_tuple=True)\n",
    "\n",
    "\n",
    "\n",
    "#用全零来初始化state\n",
    "init_state = mlstm_cell.zero_state(batch_size,dtype=tf.float32)\n",
    "\n",
    "## 利用cell class 的__call__()函数，\n",
    "outputs=list()\n",
    "state = init_state\n",
    "with tf.variable_scope('RNN'):\n",
    "\tfor timestamp in range(timestep_size):\n",
    "\t\t(cell_output,state) = mlstm_cell(X[:,timestamp,:],state)\n",
    "\t\toutputs.append(cell_output)\n",
    "\n",
    "h_state = outputs[-1]\n",
    "\n",
    "\n",
    "import time \n",
    "# 开始训练和测试\n",
    "\n",
    "W = tf.Variable(tf.truncated_normal([hidden_size,class_num],stddev=0.1),dtype=tf.float32)\n",
    "bias = tf.Variable(tf.constant(1/class_num,shape=[class_num]),dtype=tf.float32)\n",
    "\n",
    "y_pre = tf.nn.softmax(tf.matmul(h_state,W)+bias)\n",
    "\n",
    "# 损失和评估函数\n",
    "\n",
    "cross_entropy = -tf.reduce_mean(y_input*tf.log(y_pre))\n",
    "train_op = tf.train.AdamOptimizer(lr).minimize(cross_entropy)\n",
    "\n",
    "correct_prediction = tf.equal(tf.argmax(y_pre,1),tf.argmax(y_input,1))\n",
    "accuracy= tf.reduce_mean(tf.cast(correct_prediction,\"float\"))\n",
    "\n",
    "sess.run(tf.global_variables_initializer())\n",
    "\n",
    "time0 = time.time()\n",
    "\n",
    "for i in range(100):\n",
    "\t_batch_size=100\n",
    "\tX_batch,y_batch = mnist.train.next_batch(batch_size=_batch_size)\n",
    "\tcost,acc,_ = sess.run([cross_entropy,accuracy,train_op],feed_dict={X_input:X_batch,y_input:y_batch,keep_prob:1.0,batch_size:_batch_size})\n",
    "\tif (i+1) % 50 ==0:\n",
    "\t\t#分 5 次进行批处理\n",
    "\t\ttest_acc = 0.0\n",
    "\t\ttest_cost = 0.0\n",
    "\t\tN = 10\n",
    "\t\tfor j in range(N):\n",
    "\t\t\tX_batch,y_batch = mnist.train.next_batch(batch_size=_batch_size)\n",
    "\t\t\t_cost,_acc = sess.run([cross_entropy,accuracy],feed_dict={X_input:X_batch,y_input:y_batch,keep_prob:1.0,batch_size:_batch_size})\n",
    "\t\t\ttest_cost += _cost\n",
    "\t\t\ttest_acc += _acc\n",
    "\t\tprint(\"step {},train_cost={:.6f},acc={:.6f},test_cost={:.6f},test_acc={:.6f}; pass {} s\".format(i+1,cost,acc,test_cost/N,test_acc/N,time.time()-time0))\n",
    "\t\ttime0 = time.time()\n"
   ]
  },
  {
   "cell_type": "code",
   "execution_count": 2,
   "metadata": {},
   "outputs": [
    {
     "name": "stdout",
     "output_type": "stream",
     "text": [
      "(5, 784) (5, 10)\n"
     ]
    }
   ],
   "source": [
    "_batch_size=5\n",
    "X_batch,y_batch = mnist.test.next_batch(_batch_size)\n",
    "print(X_batch.shape,y_batch.shape)"
   ]
  },
  {
   "cell_type": "code",
   "execution_count": 3,
   "metadata": {},
   "outputs": [
    {
     "name": "stdout",
     "output_type": "stream",
     "text": [
      "_outputs.shape= (28, 5, 256)\n",
      "_state.shape= (2, 2, 5, 256)\n"
     ]
    }
   ],
   "source": [
    "_outputs,_state = np.array(sess.run([outputs,state],feed_dict={X_input:X_batch,y_input:y_batch,keep_prob:1.0,batch_size:_batch_size}))\n",
    "print(\"_outputs.shape=\",np.asarray(_outputs).shape)\n",
    "print(\"_state.shape=\",np.asarray(_state).shape)"
   ]
  },
  {
   "cell_type": "code",
   "execution_count": 7,
   "metadata": {},
   "outputs": [
    {
     "name": "stdout",
     "output_type": "stream",
     "text": [
      "[[0. 0. 0. 0. 0. 0. 0. 0. 0. 1.]\n",
      " [1. 0. 0. 0. 0. 0. 0. 0. 0. 0.]\n",
      " [0. 0. 1. 0. 0. 0. 0. 0. 0. 0.]\n",
      " [0. 0. 0. 1. 0. 0. 0. 0. 0. 0.]\n",
      " [0. 0. 0. 1. 0. 0. 0. 0. 0. 0.]\n",
      " [0. 0. 0. 0. 0. 1. 0. 0. 0. 0.]\n",
      " [0. 0. 0. 0. 0. 0. 0. 0. 0. 1.]\n",
      " [0. 1. 0. 0. 0. 0. 0. 0. 0. 0.]\n",
      " [0. 0. 0. 0. 0. 0. 0. 1. 0. 0.]\n",
      " [1. 0. 0. 0. 0. 0. 0. 0. 0. 0.]]\n"
     ]
    },
    {
     "data": {
      "image/png": "[encoded data removed]",
      "text/plain": [
       "<Figure size 432x288 with 1 Axes>"
      ]
     },
     "metadata": {},
     "output_type": "display_data"
    }
   ],
   "source": [
    "% matplotlib inline\n",
    "import matplotlib.pyplot as plt\n",
    "\n",
    "print(mnist.train.labels[10:20])\n",
    "\n",
    "\n",
    "X3 = mnist.train.images[10]\n",
    "img3 = X3.reshape([28,28])\n",
    "plt.imshow(img3,cmap='gray')\n",
    "plt.show()"
   ]
  },
  {
   "cell_type": "code",
   "execution_count": 8,
   "metadata": {},
   "outputs": [
    {
     "name": "stdout",
     "output_type": "stream",
     "text": [
      "(28, 1, 256)\n",
      "(28, 256)\n"
     ]
    }
   ],
   "source": [
    "X3.shape = [-1, 784]\n",
    "y_batch = mnist.train.labels[0]\n",
    "y_batch.shape = [-1, class_num]\n",
    "\n",
    "X3_outputs = np.array(sess.run(outputs, feed_dict={\n",
    "            X_input: X3, y_input: y_batch, keep_prob: 1.0, batch_size: 1}))\n",
    "print(X3_outputs.shape)\n",
    "X3_outputs.shape = [28, hidden_size]\n",
    "print(X3_outputs.shape)"
   ]
  },
  {
   "cell_type": "code",
   "execution_count": 9,
   "metadata": {},
   "outputs": [
    {
     "data": {
      "image/png": "[encoded data removed]",
      "text/plain": [
       "<Figure size 432x288 with 28 Axes>"
      ]
     },
     "metadata": {},
     "output_type": "display_data"
    }
   ],
   "source": [
    "h_W, h_bias = sess.run([W, bias], feed_dict={\n",
    "            X_input:X3, y_input: y_batch, keep_prob: 1.0, batch_size: 1})\n",
    "h_bias = h_bias.reshape([-1, 10])\n",
    "\n",
    "bar_index = range(class_num)\n",
    "for i in range(X3_outputs.shape[0]):\n",
    "    plt.subplot(7, 4, i+1)\n",
    "    X3_h_shate = X3_outputs[i, :].reshape([-1, hidden_size])\n",
    "    pro = sess.run(tf.nn.softmax(tf.matmul(X3_h_shate, h_W) + h_bias))\n",
    "    plt.bar(bar_index, pro[0], width=0.2 , align='center')\n",
    "    plt.axis('off')\n",
    "plt.show()"
   ]
  }
 ],
 "metadata": {
  "kernelspec": {
   "display_name": "Python 3",
   "language": "python",
   "name": "python3"
  },
  "language_info": {
   "codemirror_mode": {
    "name": "ipython",
    "version": 3
   },
   "file_extension": ".py",
   "mimetype": "text/x-python",
   "name": "python",
   "nbconvert_exporter": "python",
   "pygments_lexer": "ipython3",
   "version": "3.6.6"
  }
 },
 "nbformat": 4,
 "nbformat_minor": 2
}
